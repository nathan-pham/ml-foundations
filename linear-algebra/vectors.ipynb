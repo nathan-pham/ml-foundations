{
 "cells": [
  {
   "cell_type": "markdown",
   "source": [
    "# Vectors\r\n",
    "* Individual components or elements of a vector are scalars\r\n",
    "* Elements are accessed by index starting at 0"
   ],
   "metadata": {}
  },
  {
   "cell_type": "code",
   "execution_count": 20,
   "source": [
    "import tensorflow as tf\r\n",
    "import numpy as np\r\n",
    "import torch"
   ],
   "outputs": [],
   "metadata": {}
  },
  {
   "cell_type": "code",
   "execution_count": 21,
   "source": [
    "# showcase vector attributes\r\n",
    "def vector_attrs(v):\r\n",
    "    print(f\"vector length:\\t{ len(v) }\")\r\n",
    "    print(f\"vector shape:\\t{ v.shape }\")\r\n",
    "    print(f\"vector type:\\t{ type(v) }\")\r\n",
    "    print(f\"vector x0:\\t{ v[0] }\") # python is 0 indexed"
   ],
   "outputs": [],
   "metadata": {}
  },
  {
   "cell_type": "code",
   "execution_count": 22,
   "source": [
    "x = np.array([ 25, 2, 5 ]) # dtype=np.float16\r\n",
    "x"
   ],
   "outputs": [
    {
     "output_type": "execute_result",
     "data": {
      "text/plain": [
       "array([25,  2,  5])"
      ]
     },
     "metadata": {},
     "execution_count": 22
    }
   ],
   "metadata": {}
  },
  {
   "cell_type": "code",
   "execution_count": 23,
   "source": [
    "vector_attrs(x)"
   ],
   "outputs": [
    {
     "output_type": "stream",
     "name": "stdout",
     "text": [
      "vector length:\t3\n",
      "vector shape:\t(3,)\n",
      "vector type:\t<class 'numpy.ndarray'>\n",
      "vector x0:\t25\n"
     ]
    }
   ],
   "metadata": {}
  },
  {
   "cell_type": "code",
   "execution_count": 24,
   "source": [
    "# cannot transpose 1D arrays through x.T, must use higher dimensions\r\n",
    "y = np.array([[ 25, 2, 5 ]])\r\n",
    "y"
   ],
   "outputs": [
    {
     "output_type": "execute_result",
     "data": {
      "text/plain": [
       "array([[25,  2,  5]])"
      ]
     },
     "metadata": {},
     "execution_count": 24
    }
   ],
   "metadata": {}
  },
  {
   "cell_type": "code",
   "execution_count": 25,
   "source": [
    "vector_attrs(y)"
   ],
   "outputs": [
    {
     "output_type": "stream",
     "name": "stdout",
     "text": [
      "vector length:\t1\n",
      "vector shape:\t(1, 3)\n",
      "vector type:\t<class 'numpy.ndarray'>\n",
      "vector x0:\t[25  2  5]\n"
     ]
    }
   ],
   "metadata": {}
  },
  {
   "cell_type": "code",
   "execution_count": 26,
   "source": [
    "# transpose row vector into a column vector\r\n",
    "y_t = y.T\r\n",
    "y_t"
   ],
   "outputs": [
    {
     "output_type": "execute_result",
     "data": {
      "text/plain": [
       "array([[25],\n",
       "       [ 2],\n",
       "       [ 5]])"
      ]
     },
     "metadata": {},
     "execution_count": 26
    }
   ],
   "metadata": {}
  },
  {
   "cell_type": "code",
   "execution_count": 27,
   "source": [
    "vector_attrs(y_t)"
   ],
   "outputs": [
    {
     "output_type": "stream",
     "name": "stdout",
     "text": [
      "vector length:\t3\n",
      "vector shape:\t(3, 1)\n",
      "vector type:\t<class 'numpy.ndarray'>\n",
      "vector x0:\t[25]\n"
     ]
    }
   ],
   "metadata": {}
  },
  {
   "cell_type": "markdown",
   "source": [
    "## Zero Vectors\r\n",
    "* A vector with all elements equal to 0\r\n",
    "* Can specify length & dimensions like ordinary vectors"
   ],
   "metadata": {}
  },
  {
   "cell_type": "code",
   "execution_count": 28,
   "source": [
    "z = np.zeros(3)\r\n",
    "z"
   ],
   "outputs": [
    {
     "output_type": "execute_result",
     "data": {
      "text/plain": [
       "array([0., 0., 0.])"
      ]
     },
     "metadata": {},
     "execution_count": 28
    }
   ],
   "metadata": {}
  },
  {
   "cell_type": "markdown",
   "source": [
    "## Vectors in PyTorch & TensorFlow"
   ],
   "metadata": {}
  },
  {
   "cell_type": "code",
   "execution_count": 29,
   "source": [
    "x_pt = torch.tensor([ 25, 2, 5 ])\r\n",
    "x_pt"
   ],
   "outputs": [
    {
     "output_type": "execute_result",
     "data": {
      "text/plain": [
       "tensor([25,  2,  5])"
      ]
     },
     "metadata": {},
     "execution_count": 29
    }
   ],
   "metadata": {}
  },
  {
   "cell_type": "code",
   "execution_count": 30,
   "source": [
    "x_tf = tf.constant([ 25, 2, 5 ])\r\n",
    "x_tf"
   ],
   "outputs": [
    {
     "output_type": "execute_result",
     "data": {
      "text/plain": [
       "<tf.Tensor: shape=(3,), dtype=int32, numpy=array([25,  2,  5])>"
      ]
     },
     "metadata": {},
     "execution_count": 30
    }
   ],
   "metadata": {}
  }
 ],
 "metadata": {
  "orig_nbformat": 4,
  "language_info": {
   "name": "python",
   "version": "3.9.1",
   "mimetype": "text/x-python",
   "codemirror_mode": {
    "name": "ipython",
    "version": 3
   },
   "pygments_lexer": "ipython3",
   "nbconvert_exporter": "python",
   "file_extension": ".py"
  },
  "kernelspec": {
   "name": "python3",
   "display_name": "Python 3.9.1 64-bit"
  },
  "interpreter": {
   "hash": "63fd5069d213b44bf678585dea6b12cceca9941eaf7f819626cde1f2670de90d"
  }
 },
 "nbformat": 4,
 "nbformat_minor": 2
}