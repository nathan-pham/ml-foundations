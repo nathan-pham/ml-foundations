{
 "cells": [
  {
   "cell_type": "markdown",
   "source": [
    "# Vectors\r\n",
    "* Individual components or elements of a vector are scalars\r\n",
    "* Elements are accessed by index starting at 0"
   ],
   "metadata": {}
  },
  {
   "cell_type": "code",
   "execution_count": 8,
   "source": [
    "import tensorflow as tf\r\n",
    "import pytorch as pt\r\n",
    "import numpy as np"
   ],
   "outputs": [],
   "metadata": {}
  },
  {
   "cell_type": "code",
   "execution_count": 9,
   "source": [
    "# showcase vector attributes\r\n",
    "def vector_attrs(v):\r\n",
    "    print(f\"vector length:\\t{ len(v) }\")\r\n",
    "    print(f\"vector shape:\\t{ v.shape }\")\r\n",
    "    print(f\"vector type:\\t{ type(v) }\")\r\n",
    "    print(f\"vector x0:\\t{ v[0] }\") # python is 0 indexed"
   ],
   "outputs": [],
   "metadata": {}
  },
  {
   "cell_type": "code",
   "execution_count": 10,
   "source": [
    "x = np.array([ 25, 2, 5 ]) # dtype=np.float16\r\n",
    "x"
   ],
   "outputs": [
    {
     "output_type": "execute_result",
     "data": {
      "text/plain": [
       "array([25,  2,  5])"
      ]
     },
     "metadata": {},
     "execution_count": 10
    }
   ],
   "metadata": {}
  },
  {
   "cell_type": "code",
   "execution_count": 11,
   "source": [
    "vector_attrs(x)"
   ],
   "outputs": [
    {
     "output_type": "stream",
     "name": "stdout",
     "text": [
      "vector length:\t3\n",
      "vector shape:\t(3,)\n",
      "vector type:\t<class 'numpy.ndarray'>\n",
      "vector x0:\t25\n"
     ]
    }
   ],
   "metadata": {}
  },
  {
   "cell_type": "code",
   "execution_count": 12,
   "source": [
    "# cannot transpose 1D arrays through x.T, must use higher dimensions\r\n",
    "y = np.array([[ 25, 2, 5 ]])\r\n",
    "y"
   ],
   "outputs": [
    {
     "output_type": "execute_result",
     "data": {
      "text/plain": [
       "array([[25,  2,  5]])"
      ]
     },
     "metadata": {},
     "execution_count": 12
    }
   ],
   "metadata": {}
  },
  {
   "cell_type": "code",
   "execution_count": 13,
   "source": [
    "vector_attrs(y)"
   ],
   "outputs": [
    {
     "output_type": "stream",
     "name": "stdout",
     "text": [
      "vector length:\t1\n",
      "vector shape:\t(1, 3)\n",
      "vector type:\t<class 'numpy.ndarray'>\n",
      "vector x0:\t[25  2  5]\n"
     ]
    }
   ],
   "metadata": {}
  },
  {
   "cell_type": "code",
   "execution_count": 14,
   "source": [
    "# transpose row vector into a column vector\r\n",
    "y_t = y.T\r\n",
    "y_t"
   ],
   "outputs": [
    {
     "output_type": "execute_result",
     "data": {
      "text/plain": [
       "array([[25],\n",
       "       [ 2],\n",
       "       [ 5]])"
      ]
     },
     "metadata": {},
     "execution_count": 14
    }
   ],
   "metadata": {}
  },
  {
   "cell_type": "code",
   "execution_count": 15,
   "source": [
    "vector_attrs(y_t)"
   ],
   "outputs": [
    {
     "output_type": "stream",
     "name": "stdout",
     "text": [
      "vector length:\t3\n",
      "vector shape:\t(3, 1)\n",
      "vector type:\t<class 'numpy.ndarray'>\n",
      "vector x0:\t[25]\n"
     ]
    }
   ],
   "metadata": {}
  },
  {
   "cell_type": "markdown",
   "source": [
    "## Zero Vectors\r\n",
    "* A vector with all elements equal to 0\r\n",
    "* Can specify length & dimensions like ordinary vectors"
   ],
   "metadata": {}
  },
  {
   "cell_type": "code",
   "execution_count": 17,
   "source": [
    "z = np.zeros(3)\r\n",
    "z"
   ],
   "outputs": [
    {
     "output_type": "execute_result",
     "data": {
      "text/plain": [
       "array([0., 0., 0.])"
      ]
     },
     "metadata": {},
     "execution_count": 17
    }
   ],
   "metadata": {}
  }
 ],
 "metadata": {
  "orig_nbformat": 4,
  "language_info": {
   "name": "python",
   "version": "3.9.1",
   "mimetype": "text/x-python",
   "codemirror_mode": {
    "name": "ipython",
    "version": 3
   },
   "pygments_lexer": "ipython3",
   "nbconvert_exporter": "python",
   "file_extension": ".py"
  },
  "kernelspec": {
   "name": "python3",
   "display_name": "Python 3.9.1 64-bit"
  },
  "interpreter": {
   "hash": "63fd5069d213b44bf678585dea6b12cceca9941eaf7f819626cde1f2670de90d"
  }
 },
 "nbformat": 4,
 "nbformat_minor": 2
}