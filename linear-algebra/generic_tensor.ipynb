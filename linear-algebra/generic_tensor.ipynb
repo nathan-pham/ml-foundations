{
 "cells": [
  {
   "cell_type": "markdown",
   "source": [
    "# Generic Tensor Notation\r\n",
    "Example case for a rank 4 tensor:\r\n",
    "1. number of images\r\n",
    "2. image height\r\n",
    "3. image width\r\n",
    "4. number of channels (ie: 3 for RGB and 1 for grayscale)"
   ],
   "metadata": {}
  },
  {
   "cell_type": "code",
   "execution_count": null,
   "source": [
    "import tensorflow as tf\r\n",
    "import numpy as np\r\n",
    "import torch"
   ],
   "outputs": [],
   "metadata": {}
  },
  {
   "cell_type": "code",
   "execution_count": null,
   "source": [
    "images_pt = torch.zeros([ 32, 28, 28, 3 ])\r\n",
    "images_pt"
   ],
   "outputs": [],
   "metadata": {}
  },
  {
   "cell_type": "code",
   "execution_count": null,
   "source": [
    "images_tf = tf.zeros([ 32, 28, 28, 3 ])\r\n",
    "images_tf"
   ],
   "outputs": [],
   "metadata": {}
  }
 ],
 "metadata": {
  "orig_nbformat": 4,
  "language_info": {
   "name": "python"
  }
 },
 "nbformat": 4,
 "nbformat_minor": 2
}